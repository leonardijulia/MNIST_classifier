{
 "cells": [
  {
   "cell_type": "markdown",
   "id": "09bb88fb",
   "metadata": {},
   "source": [
    "### A notebook testing the difference in execution time of the MNIST classification using a simple CNN on the CPU vson the dedicated GPU (NVIDIA GeForce RTX 4050)"
   ]
  },
  {
   "cell_type": "code",
   "execution_count": null,
   "id": "ced5ba33",
   "metadata": {},
   "outputs": [],
   "source": [
    "import os\n",
    "import time\n",
    "import torch\n",
    "import engine, model_builder\n",
    "from utils import plot_predictions, save_model\n",
    "\n",
    "import torch.nn.functional as F\n",
    "import torchvision.datasets as datasets\n",
    "import torchvision.transforms as transforms\n",
    "from torch.utils.data import DataLoader\n",
    "import matplotlib.pyplot as plt\n",
    "\n",
    "from torchvision import transforms"
   ]
  },
  {
   "cell_type": "markdown",
   "id": "5e26f52e",
   "metadata": {},
   "source": [
    "Set up hyperparameters"
   ]
  },
  {
   "cell_type": "code",
   "execution_count": 5,
   "id": "c24448a6",
   "metadata": {},
   "outputs": [],
   "source": [
    "cuda = \"cuda\"\n",
    "cpu  = \"cpu\"\n",
    "num_classes = 10 #MNIST dataset containing handwritten digits from 1-9\n",
    "\n",
    "#TODO: learn automatic hyperparameter tuning\n",
    "LR = 0.001 \n",
    "NUM_EPOCHS = 10\n",
    "BATCH_SIZE = 64\n",
    "\n",
    "# note: you can't change a constant value - just access it  "
   ]
  },
  {
   "cell_type": "markdown",
   "id": "5651a2af",
   "metadata": {},
   "source": [
    "Download the dataset"
   ]
  },
  {
   "cell_type": "code",
   "execution_count": 6,
   "id": "3f75d256",
   "metadata": {},
   "outputs": [],
   "source": [
    "#TODO: Play with other datasets\n",
    "#TODO: Play with transforms and augmentations\n",
    "\n",
    "basic_transform = transforms.ToTensor()\n",
    "train_dataset = datasets.MNIST(root=\"dataset/\", download=True, train=True,\n",
    "                               transform=basic_transform)\n",
    "train_loader = DataLoader(dataset=train_dataset, batch_size=BATCH_SIZE, shuffle=True)\n",
    "\n",
    "test_dataset = datasets.MNIST(root=\"dataset/\", download=True, train=False,\n",
    "                               transform=basic_transform)\n",
    "test_loader = DataLoader(dataset=test_dataset, batch_size=BATCH_SIZE, shuffle=True)"
   ]
  },
  {
   "cell_type": "markdown",
   "id": "dba21424",
   "metadata": {},
   "source": [
    "Instantiate the model and create the GPU instance"
   ]
  },
  {
   "cell_type": "code",
   "execution_count": 7,
   "id": "cb5f2484",
   "metadata": {},
   "outputs": [],
   "source": [
    "#TODO: create more models/architectures and play with them\n",
    "\n",
    "model = model_builder.CNN(in_channels=1, num_classes=num_classes)\n",
    "model_gpu = model.to(cuda)\n",
    "\n",
    "#TODO: test different loss functions + refresh theory\n",
    "loss_fn = torch.nn.CrossEntropyLoss()\n",
    "\n",
    "#TODO: test other optimizers + reftesh theory\n",
    "optimizer = torch.optim.Adam(model.parameters(), lr=LR)"
   ]
  },
  {
   "cell_type": "markdown",
   "id": "38f804c2",
   "metadata": {},
   "source": [
    "Train on GPU and time the execution"
   ]
  },
  {
   "cell_type": "code",
   "execution_count": 8,
   "id": "8af10a10",
   "metadata": {},
   "outputs": [
    {
     "name": "stderr",
     "output_type": "stream",
     "text": [
      " 10%|█         | 1/10 [00:12<01:54, 12.68s/it]"
     ]
    },
    {
     "name": "stdout",
     "output_type": "stream",
     "text": [
      "Epoch: 1 | train_loss: 0.3904 | train_acc: 0.8859 | test_loss: 0.1344 | test_acc: 0.9585 | \n"
     ]
    },
    {
     "name": "stderr",
     "output_type": "stream",
     "text": [
      " 20%|██        | 2/10 [00:32<02:13, 16.73s/it]"
     ]
    },
    {
     "name": "stdout",
     "output_type": "stream",
     "text": [
      "Epoch: 2 | train_loss: 0.1120 | train_acc: 0.9672 | test_loss: 0.0797 | test_acc: 0.9768 | \n"
     ]
    },
    {
     "name": "stderr",
     "output_type": "stream",
     "text": [
      " 30%|███       | 3/10 [00:47<01:50, 15.84s/it]"
     ]
    },
    {
     "name": "stdout",
     "output_type": "stream",
     "text": [
      "Epoch: 3 | train_loss: 0.0819 | train_acc: 0.9757 | test_loss: 0.0785 | test_acc: 0.9750 | \n"
     ]
    },
    {
     "name": "stderr",
     "output_type": "stream",
     "text": [
      " 40%|████      | 4/10 [01:01<01:31, 15.30s/it]"
     ]
    },
    {
     "name": "stdout",
     "output_type": "stream",
     "text": [
      "Epoch: 4 | train_loss: 0.0706 | train_acc: 0.9789 | test_loss: 0.0568 | test_acc: 0.9834 | \n"
     ]
    },
    {
     "name": "stderr",
     "output_type": "stream",
     "text": [
      " 50%|█████     | 5/10 [01:14<01:12, 14.55s/it]"
     ]
    },
    {
     "name": "stdout",
     "output_type": "stream",
     "text": [
      "Epoch: 5 | train_loss: 0.0645 | train_acc: 0.9806 | test_loss: 0.0555 | test_acc: 0.9821 | \n"
     ]
    },
    {
     "name": "stderr",
     "output_type": "stream",
     "text": [
      " 60%|██████    | 6/10 [01:28<00:57, 14.37s/it]"
     ]
    },
    {
     "name": "stdout",
     "output_type": "stream",
     "text": [
      "Epoch: 6 | train_loss: 0.0591 | train_acc: 0.9821 | test_loss: 0.0536 | test_acc: 0.9836 | \n"
     ]
    },
    {
     "name": "stderr",
     "output_type": "stream",
     "text": [
      " 70%|███████   | 7/10 [01:42<00:42, 14.14s/it]"
     ]
    },
    {
     "name": "stdout",
     "output_type": "stream",
     "text": [
      "Epoch: 7 | train_loss: 0.0550 | train_acc: 0.9834 | test_loss: 0.0495 | test_acc: 0.9844 | \n"
     ]
    },
    {
     "name": "stderr",
     "output_type": "stream",
     "text": [
      " 80%|████████  | 8/10 [02:12<00:38, 19.36s/it]"
     ]
    },
    {
     "name": "stdout",
     "output_type": "stream",
     "text": [
      "Epoch: 8 | train_loss: 0.0510 | train_acc: 0.9846 | test_loss: 0.0505 | test_acc: 0.9835 | \n"
     ]
    },
    {
     "name": "stderr",
     "output_type": "stream",
     "text": [
      " 90%|█████████ | 9/10 [02:50<00:24, 24.96s/it]"
     ]
    },
    {
     "name": "stdout",
     "output_type": "stream",
     "text": [
      "Epoch: 9 | train_loss: 0.0480 | train_acc: 0.9850 | test_loss: 0.0451 | test_acc: 0.9863 | \n"
     ]
    },
    {
     "name": "stderr",
     "output_type": "stream",
     "text": [
      "100%|██████████| 10/10 [03:28<00:00, 20.80s/it]"
     ]
    },
    {
     "name": "stdout",
     "output_type": "stream",
     "text": [
      "Epoch: 10 | train_loss: 0.0455 | train_acc: 0.9859 | test_loss: 0.0429 | test_acc: 0.9858 | \n",
      "Total training time on GPU: 208.02359223365784 seconds.\n"
     ]
    },
    {
     "name": "stderr",
     "output_type": "stream",
     "text": [
      "\n"
     ]
    }
   ],
   "source": [
    "start = time.time()\n",
    "GPU_run = engine.train(model=model_gpu,\n",
    "             train_dataloader=train_loader,\n",
    "             test_dataloader=test_loader,\n",
    "             loss_fn=loss_fn,\n",
    "             optimizer=optimizer,\n",
    "             epochs=NUM_EPOCHS,\n",
    "             device=cuda)\n",
    "end = time.time()\n",
    "print(f\"Total training time on GPU: {end-start} seconds.\")"
   ]
  },
  {
   "cell_type": "code",
   "execution_count": 12,
   "id": "936a542a",
   "metadata": {},
   "outputs": [
    {
     "data": {
      "image/png": "[encoded data removed]",
      "text/plain": [
       "<Figure size 1200x500 with 2 Axes>"
      ]
     },
     "metadata": {},
     "output_type": "display_data"
    }
   ],
   "source": [
    "GPU_train_loss = GPU_run[\"train_loss\"]\n",
    "GPU_train_acc = GPU_run[\"train_acc\"]\n",
    "GPU_test_loss = GPU_run[\"test_loss\"]\n",
    "GPU_test_acc = GPU_run[\"test_acc\"]\n",
    "\n",
    "fig, axes = plt.subplots(1, 2, figsize=(12, 5))\n",
    "\n",
    "# Loss subplot\n",
    "axes[0].plot(GPU_train_loss, label=\"Train Loss\")\n",
    "axes[0].plot(GPU_test_loss, label=\"Validation Loss\")\n",
    "axes[0].set_xlabel(\"Epoch\")\n",
    "axes[0].set_ylabel(\"Loss\")\n",
    "axes[0].set_title(\"Training & Validation Loss\")\n",
    "axes[0].legend()\n",
    "\n",
    "# Accuracy subplot\n",
    "axes[1].plot(GPU_train_acc, label=\"Train Accuracy\")\n",
    "axes[1].plot(GPU_test_acc, label=\"Validation Accuracy\")\n",
    "axes[1].set_xlabel(\"Epoch\")\n",
    "axes[1].set_ylabel(\"Loss\")\n",
    "axes[1].set_title(\"Training & Validation Accuracy\")\n",
    "axes[1].legend()\n",
    "\n",
    "plt.tight_layout()\n",
    "plt.show()"
   ]
  },
  {
   "cell_type": "code",
   "execution_count": 15,
   "id": "1a4e57a0",
   "metadata": {},
   "outputs": [
    {
     "ename": "AttributeError",
     "evalue": "module 'utils' has no attribute 'plot_predictions'",
     "output_type": "error",
     "traceback": [
      "\u001b[31m---------------------------------------------------------------------------\u001b[39m",
      "\u001b[31mAttributeError\u001b[39m                            Traceback (most recent call last)",
      "\u001b[36mCell\u001b[39m\u001b[36m \u001b[39m\u001b[32mIn[15]\u001b[39m\u001b[32m, line 1\u001b[39m\n\u001b[32m----> \u001b[39m\u001b[32m1\u001b[39m \u001b[43mutils\u001b[49m\u001b[43m.\u001b[49m\u001b[43mplot_predictions\u001b[49m(model=model_gpu,\n\u001b[32m      2\u001b[39m                        data_loader=test_loader,\n\u001b[32m      3\u001b[39m                        device=cuda)\n",
      "\u001b[31mAttributeError\u001b[39m: module 'utils' has no attribute 'plot_predictions'"
     ]
    }
   ],
   "source": [
    "utils.plot_predictions(model=model_gpu,\n",
    "                       data_loader=test_loader,\n",
    "                       device=cuda)\n",
    "    \n"
   ]
  },
  {
   "cell_type": "markdown",
   "id": "9a91e958",
   "metadata": {},
   "source": [
    "Same but with CPU"
   ]
  },
  {
   "cell_type": "code",
   "execution_count": null,
   "id": "bea3133c",
   "metadata": {},
   "outputs": [],
   "source": [
    "model_cpu = model.to(cpu)\n",
    "optimizer_cpu = torch.optim.Adam(model_cpu.parameters(), lr=LR)"
   ]
  },
  {
   "cell_type": "code",
   "execution_count": null,
   "id": "fc53d8f1",
   "metadata": {},
   "outputs": [],
   "source": [
    "start = time.time()\n",
    "engine.train(model=model_cpu,\n",
    "             train_dataloader=train_loader,\n",
    "             test_dataloader=test_loader,\n",
    "             loss_fn=loss_fn,\n",
    "             optimizer=optimizer_cpu,\n",
    "             epochs=NUM_EPOCHS,\n",
    "             device=\"cpu\")\n",
    "end = time.time()\n",
    "print(f\"Total training time on CPU: {end-start} seconds.\")"
   ]
  },
  {
   "cell_type": "code",
   "execution_count": null,
   "id": "dc4443e4",
   "metadata": {},
   "outputs": [],
   "source": [
    "GPU = 175.37\n",
    "CPU = 436.46\n",
    "CPU/GPU"
   ]
  },
  {
   "cell_type": "markdown",
   "id": "54e830fe",
   "metadata": {},
   "source": [
    "## #TODO: HERE VIZUALIZATIONS OF LOSS CURVES, OF ACCURACIES + EXAMPLES OF INFERENCE VIZ"
   ]
  },
  {
   "cell_type": "markdown",
   "id": "87786182",
   "metadata": {},
   "source": []
  },
  {
   "cell_type": "code",
   "execution_count": null,
   "id": "40aad632",
   "metadata": {},
   "outputs": [],
   "source": []
  }
 ],
 "metadata": {
  "kernelspec": {
   "display_name": "exp",
   "language": "python",
   "name": "python3"
  },
  "language_info": {
   "codemirror_mode": {
    "name": "ipython",
    "version": 3
   },
   "file_extension": ".py",
   "mimetype": "text/x-python",
   "name": "python",
   "nbconvert_exporter": "python",
   "pygments_lexer": "ipython3",
   "version": "3.12.10"
  }
 },
 "nbformat": 4,
 "nbformat_minor": 5
}
